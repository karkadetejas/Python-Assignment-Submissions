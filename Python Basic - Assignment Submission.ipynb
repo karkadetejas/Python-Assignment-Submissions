{
 "cells": [
  {
   "cell_type": "markdown",
   "id": "85463c13",
   "metadata": {},
   "source": [
    "# Python Basics Questions\n"
   ]
  },
  {
   "cell_type": "markdown",
   "id": "1188a3ab",
   "metadata": {},
   "source": [
    "1. What is Python, and why is it popular?\n",
    "\n",
    "ANS: Python is a programming language that is very easy to read and write. It is popular because it looks like normal English, has many ready-made libraries, and can be used for lots of things like websites, data, games, and AI.\n"
   ]
  },
  {
   "cell_type": "markdown",
   "id": "e9e28d24",
   "metadata": {},
   "source": [
    "2. What is an interpreter in Python?\n",
    "\n",
    "ANS: The interpreter is the program that reads Python code line by line and runs it directly. We don’t need to compile it first like in some other languages.\n"
   ]
  },
  {
   "cell_type": "markdown",
   "id": "ecb21b9f",
   "metadata": {},
   "source": [
    "3. What are pre-defined keywords in Python?\n",
    "\n",
    "ANS: Keywords are special words in Python which already have a meaning. For example: if, for, while, True, False, etc. We can’t change their meaning.\n"
   ]
  },
  {
   "cell_type": "markdown",
   "id": "5772b9e9",
   "metadata": {},
   "source": [
    "4. Can keywords be used as variable names?\n",
    "\n",
    "ANS: No, keywords cannot be used as variable names because Python has already fixed them for a special purpose.\n"
   ]
  },
  {
   "cell_type": "markdown",
   "id": "902e630b",
   "metadata": {},
   "source": [
    "5. What is mutability in Python?\n",
    "\n",
    "ANS: Mutability means whether we can change the value inside an object or not after creating it.\n"
   ]
  },
  {
   "cell_type": "markdown",
   "id": "8f542aa8",
   "metadata": {},
   "source": [
    "6. Why are lists mutable, but tuples are immutable?\n",
    "\n",
    "ANS: Lists are mutable because we can add, remove, or change items after making a list.\n",
    "Tuples are immutable because once a tuple is created, we cannot change its values.\n"
   ]
  },
  {
   "cell_type": "markdown",
   "id": "651ece48",
   "metadata": {},
   "source": [
    "7. What is the difference between “==” and “is” operators in Python?\n",
    "\n",
    "ANS: \"==\" checks if two values are the same.\n",
    "\"is\" checks if two variables point to the same place in memory."
   ]
  },
  {
   "cell_type": "markdown",
   "id": "605191e7",
   "metadata": {},
   "source": [
    "8. What are logical operators in Python?\n",
    "\n",
    "ANS: Logical operators in Python are used to combine conditional statements and evaluate expressions that result in a Boolean value (True or False).\n",
    "    1. and → True if both conditions are true\n",
    "    2. OR → True if at least one condition is true\n",
    "    3. NOT → reverses the result"
   ]
  },
  {
   "cell_type": "markdown",
   "id": "9672de0d",
   "metadata": {},
   "source": [
    "9. What is type casting in Python?\n",
    "\n",
    "ANS: Type casting means changing the type of a value from one form to another, like changing '5' (string) into 5 (integer)."
   ]
  },
  {
   "cell_type": "markdown",
   "id": "011cdf03",
   "metadata": {},
   "source": [
    "10. What is the difference between implicit and explicit type cing?\n",
    "\n",
    "ANS: Implicit → Python changes the type automatically (example: 5 + 2.0 becomes 7.0).\n",
    "     Explicit → We change the type ourselves using functions like int(), float(), str()."
   ]
  },
  {
   "cell_type": "markdown",
   "id": "379c275d",
   "metadata": {},
   "source": [
    "11. What is the purpose of conditional statements in Python?\n",
    "\n",
    "ANS: Conditional statements are used to make decisions in a program. For example, checking if someone passed or failed based on marks."
   ]
  },
  {
   "cell_type": "markdown",
   "id": "0d202802",
   "metadata": {},
   "source": [
    "12. How does the elif statement work?\n",
    "\n",
    "ANS: elif is short for 'else if'. It is used when we have many conditions to check, not just if and else."
   ]
  },
  {
   "cell_type": "markdown",
   "id": "725f1652",
   "metadata": {},
   "source": [
    "13. What is the difference between for and while loops?\n",
    "\n",
    "ANS: for loop is used when we know how many times we want to repeat.\n",
    "while loop is used when we don’t know the exact number of times, and we keep repeating until the condition becomes false."
   ]
  },
  {
   "cell_type": "markdown",
   "id": "7ec46d55",
   "metadata": {},
   "source": [
    "14. Describe a scenario where a while loop is more suitable than a for loop.\n",
    "\n",
    "ANS: Example: Asking a user to enter a correct password.\n",
    "We don’t know how many times they will try, so a while loop is better until the correct password is given.\n",
    "\n",
    "Code Example:\n",
    "password = \"1234\"\n",
    "user_input = \"\"\n",
    "\n",
    "while user_input != password:\n",
    "    user_input = input(\"Enter password: \")\n",
    "\n",
    "print(\"Access Granted!\")"
   ]
  },
  {
   "cell_type": "markdown",
   "id": "5de542ad",
   "metadata": {},
   "source": [
    "# Practical Questions"
   ]
  },
  {
   "cell_type": "markdown",
   "id": "d6792a69",
   "metadata": {},
   "source": [
    "# Que 01: Write a Python program to print \"Hello, World!\""
   ]
  },
  {
   "cell_type": "code",
   "execution_count": 2,
   "id": "13702325",
   "metadata": {},
   "outputs": [
    {
     "name": "stdout",
     "output_type": "stream",
     "text": [
      "Hello, World!\n"
     ]
    }
   ],
   "source": [
    "print(\"Hello, World!\")"
   ]
  },
  {
   "cell_type": "markdown",
   "id": "5cb8f791",
   "metadata": {},
   "source": [
    "# Que 02: Write a Python program that displays your name and age"
   ]
  },
  {
   "cell_type": "code",
   "execution_count": 24,
   "id": "9b538e52",
   "metadata": {},
   "outputs": [
    {
     "name": "stdout",
     "output_type": "stream",
     "text": [
      "Your Name is Tejas And Your age is 23\n"
     ]
    }
   ],
   "source": [
    "name = \"Tejas\"\n",
    "age = 23\n",
    "print(\"Your Name is\",name,\"And Your age is\",age)"
   ]
  },
  {
   "cell_type": "markdown",
   "id": "e8cbaa11",
   "metadata": {},
   "source": [
    "# Que 03: Write code to print all the pre-defined keywords in Python using the keyword library"
   ]
  },
  {
   "cell_type": "code",
   "execution_count": 36,
   "id": "d8091ca6",
   "metadata": {},
   "outputs": [
    {
     "name": "stdout",
     "output_type": "stream",
     "text": [
      "['False', 'None', 'True', 'and', 'as', 'assert', 'async', 'await', 'break', 'class', 'continue', 'def', 'del', 'elif', 'else', 'except', 'finally', 'for', 'from', 'global', 'if', 'import', 'in', 'is', 'lambda', 'nonlocal', 'not', 'or', 'pass', 'raise', 'return', 'try', 'while', 'with', 'yield']\n"
     ]
    }
   ],
   "source": [
    "import keyword\n",
    "print(keyword.kwlist)"
   ]
  },
  {
   "cell_type": "markdown",
   "id": "a337065e",
   "metadata": {},
   "source": [
    "# Que 04: Write a program that checks if a given word is a Python keyword."
   ]
  },
  {
   "cell_type": "code",
   "execution_count": 38,
   "id": "364d9baa",
   "metadata": {},
   "outputs": [
    {
     "name": "stdout",
     "output_type": "stream",
     "text": [
      "Enter a word: help\n",
      "help is not a Python keyword\n"
     ]
    }
   ],
   "source": [
    "import keyword\n",
    "\n",
    "word = input(\"Enter a word: \")\n",
    "if keyword.iskeyword(word):\n",
    "    print(word,\"is a Python keyword\")\n",
    "else:\n",
    "    print(word,\"is not a Python keyword\")"
   ]
  },
  {
   "cell_type": "markdown",
   "id": "a2ce1552",
   "metadata": {},
   "source": [
    "# Que 05: Create a list and tuple in Python, and demonstrate how attempting to change an element works differently for each."
   ]
  },
  {
   "cell_type": "code",
   "execution_count": 41,
   "id": "c5ac4041",
   "metadata": {},
   "outputs": [
    {
     "name": "stdout",
     "output_type": "stream",
     "text": [
      "List after change: [10, 20, 3000, 40, 50]\n"
     ]
    },
    {
     "ename": "TypeError",
     "evalue": "'tuple' object does not support item assignment",
     "output_type": "error",
     "traceback": [
      "\u001b[1;31m---------------------------------------------------------------------------\u001b[0m",
      "\u001b[1;31mTypeError\u001b[0m                                 Traceback (most recent call last)",
      "Cell \u001b[1;32mIn[41], line 8\u001b[0m\n\u001b[0;32m      6\u001b[0m \u001b[38;5;66;03m# Tuple (immutable)\u001b[39;00m\n\u001b[0;32m      7\u001b[0m Tuple \u001b[38;5;241m=\u001b[39m (\u001b[38;5;241m10\u001b[39m, \u001b[38;5;241m20\u001b[39m, \u001b[38;5;241m30\u001b[39m, \u001b[38;5;241m40\u001b[39m, \u001b[38;5;241m50\u001b[39m)\n\u001b[1;32m----> 8\u001b[0m Tuple[\u001b[38;5;241m1\u001b[39m] \u001b[38;5;241m=\u001b[39m \u001b[38;5;241m200\u001b[39m   \u001b[38;5;66;03m#This will give an error as element in a tuple/string cannot be changed\u001b[39;00m\n\u001b[0;32m      9\u001b[0m \u001b[38;5;28mprint\u001b[39m(\u001b[38;5;124m\"\u001b[39m\u001b[38;5;124mTuple:\u001b[39m\u001b[38;5;124m\"\u001b[39m,Tuple)\n",
      "\u001b[1;31mTypeError\u001b[0m: 'tuple' object does not support item assignment"
     ]
    }
   ],
   "source": [
    "# List (mutable)\n",
    "List = [10, 20, 30, 40, 50]\n",
    "List[2] = 3000  #changing second element\n",
    "print(\"List after change:\",List)\n",
    "\n",
    "# Tuple (immutable)\n",
    "Tuple = (10, 20, 30, 40, 50)\n",
    "Tuple[1] = 200   #This will give an error as element in a tuple/string cannot be changed\n",
    "print(\"Tuple:\",Tuple)"
   ]
  },
  {
   "cell_type": "markdown",
   "id": "ebd028bc",
   "metadata": {},
   "source": [
    "# Que 06: Write a function to demonstrate the behavior of mutable and immutable arguments."
   ]
  },
  {
   "cell_type": "code",
   "execution_count": 55,
   "id": "38a42599",
   "metadata": {},
   "outputs": [
    {
     "name": "stdout",
     "output_type": "stream",
     "text": [
      "Original list: [1, 2, 3, 4, 5]\n",
      "Changed list: [1, 2, 3, 4, 99]\n",
      "Original string: Hello\n",
      "New string: Yello\n"
     ]
    }
   ],
   "source": [
    "# Example with List (mutable)\n",
    "List = [1, 2, 3, 4, 5]\n",
    "print(\"Original list:\",List)\n",
    "\n",
    "List[4] = 99   #we change the first element\n",
    "print(\"Changed list:\",List)\n",
    "\n",
    "# Example with String (immutable)\n",
    "string = \"Hello\"\n",
    "print(\"Original string:\",string)\n",
    "\n",
    "# Try to change one character\n",
    "# my_string[0] = \"Y\"   #This gives an error\n",
    "new_string = \"Y\" + string[1:5]  # creating a new string to show a change in original string\n",
    "print(\"New string:\", new_string)\n"
   ]
  },
  {
   "cell_type": "markdown",
   "id": "602fe107",
   "metadata": {},
   "source": [
    "# Que 07: Write a program that performs basic arithmetic operations on two user-input numbers."
   ]
  },
  {
   "cell_type": "code",
   "execution_count": 35,
   "id": "9308ca13",
   "metadata": {},
   "outputs": [
    {
     "name": "stdout",
     "output_type": "stream",
     "text": [
      "Please Input your 1st Number: 10\n",
      "Please Input your 2nd Number: 5\n",
      "\n",
      "Addition of Given number is:  15\n",
      "\n",
      "Substraction of Given number is:  5\n",
      "\n",
      "Product of Given number is:  50\n",
      "\n",
      "Division of Given number is:  2.0\n"
     ]
    }
   ],
   "source": [
    "A = int(input(\"Please Input your 1st Number: \"))\n",
    "B = int(input(\"Please Input your 2nd Number: \"))\n",
    "print()\n",
    "print(\"Addition of Given number is: \",A+B)\n",
    "print()\n",
    "print(\"Substraction of Given number is: \",A-B)\n",
    "print()\n",
    "print(\"Product of Given number is: \",A*B)\n",
    "print()\n",
    "print(\"Division of Given number is: \",A/B)"
   ]
  },
  {
   "cell_type": "markdown",
   "id": "79512903",
   "metadata": {},
   "source": [
    "# Que 08: Write a program to demonstrate the use of logical operators."
   ]
  },
  {
   "cell_type": "code",
   "execution_count": 59,
   "id": "f9b1acdf",
   "metadata": {},
   "outputs": [
    {
     "name": "stdout",
     "output_type": "stream",
     "text": [
      "True\n",
      "False\n",
      "False\n",
      "True\n",
      "False\n"
     ]
    }
   ],
   "source": [
    "x = 10\n",
    "y = 5\n",
    "\n",
    "print(x > 5 and y > 2)    # True because both condition are true\n",
    "print(x > 5 and y > 5)    # False because one of the condition is false\n",
    "print(x > 15 or y > 10)   # False because both condition are False\n",
    "print(x > 5 or y < 2)     # True because one condition is true\n",
    "print(not(x > 5))         # False because x > 5 is True, and not makes it False\n"
   ]
  },
  {
   "cell_type": "markdown",
   "id": "1e00aee7",
   "metadata": {},
   "source": [
    "# Que 09: Write a Python program to convert user input from string to integer, float, and boolean types."
   ]
  },
  {
   "cell_type": "code",
   "execution_count": 1,
   "id": "c7b77419",
   "metadata": {},
   "outputs": [
    {
     "name": "stdout",
     "output_type": "stream",
     "text": [
      "Enter Any type of Number: 12\n",
      "Given Number As a integer: 12\n",
      "Given Number As a Float: 12.0\n",
      "As boolean: True\n"
     ]
    }
   ],
   "source": [
    "data = input(\"Enter Any type of Number: \")\n",
    "\n",
    "# Convert to integer\n",
    "integer = int(data)\n",
    "print(\"Given Number As a integer:\",integer)\n",
    "\n",
    "# Convert to float\n",
    "flt = float(data)\n",
    "print(\"Given Number As a Float:\",flt)\n",
    "\n",
    "# Convert to boolean\n",
    "print(\"As boolean:\", bool(data))\n"
   ]
  },
  {
   "cell_type": "markdown",
   "id": "2805f5a2",
   "metadata": {},
   "source": [
    "# Que 10:  Write code to demonstrate type casting with list elements."
   ]
  },
  {
   "cell_type": "code",
   "execution_count": 79,
   "id": "c898fad1",
   "metadata": {},
   "outputs": [
    {
     "name": "stdout",
     "output_type": "stream",
     "text": [
      "List before type Casting: ['1', '2', '3', '4']\n",
      "List after type Casting: [1, 2, 3, 4]\n"
     ]
    }
   ],
   "source": [
    "leap=[\"1\",\"2\",\"3\",\"4\"]\n",
    "print(\"List before type Casting:\",leap)\n",
    "\n",
    "for i in range(len(leap)):\n",
    "    leap[i] = int(leap[i])\n",
    "print(\"List after type Casting:\",leap)"
   ]
  },
  {
   "cell_type": "markdown",
   "id": "3846bd15",
   "metadata": {},
   "source": [
    "# Que 11: Write a program that checks if a number is positive, negative, or zero."
   ]
  },
  {
   "cell_type": "code",
   "execution_count": 85,
   "id": "44719604",
   "metadata": {},
   "outputs": [
    {
     "name": "stdout",
     "output_type": "stream",
     "text": [
      "Enter a number: 22\n",
      "Given number is positive\n"
     ]
    }
   ],
   "source": [
    "num = int(input(\"Enter a number: \"))\n",
    "\n",
    "if num > 0:\n",
    "    print(\"Given number is positive\")\n",
    "elif num < 0:\n",
    "    print(\"Given number is Negative\")\n",
    "else:\n",
    "    print(\"Given number is Zero\")"
   ]
  },
  {
   "cell_type": "markdown",
   "id": "f9075eb0",
   "metadata": {},
   "source": [
    "# Que 12: Write a for loop to print numbers from 1 to 10."
   ]
  },
  {
   "cell_type": "code",
   "execution_count": 88,
   "id": "5d0e9947",
   "metadata": {},
   "outputs": [
    {
     "name": "stdout",
     "output_type": "stream",
     "text": [
      "1\n",
      "2\n",
      "3\n",
      "4\n",
      "5\n",
      "6\n",
      "7\n",
      "8\n",
      "9\n",
      "10\n",
      "11\n",
      "12\n",
      "13\n",
      "14\n",
      "15\n",
      "16\n",
      "17\n",
      "18\n",
      "19\n",
      "20\n",
      "21\n",
      "22\n",
      "23\n",
      "24\n",
      "25\n",
      "26\n",
      "27\n",
      "28\n",
      "29\n",
      "30\n",
      "31\n",
      "32\n",
      "33\n",
      "34\n",
      "35\n",
      "36\n",
      "37\n",
      "38\n",
      "39\n",
      "40\n",
      "41\n",
      "42\n",
      "43\n",
      "44\n",
      "45\n",
      "46\n",
      "47\n",
      "48\n",
      "49\n",
      "50\n"
     ]
    }
   ],
   "source": [
    "for i in range(1,51):\n",
    "    print(i)\n"
   ]
  },
  {
   "cell_type": "markdown",
   "id": "8759e438",
   "metadata": {},
   "source": [
    "# Que 13: Write a Python program to find the sum of all even numbers between 1 and 50."
   ]
  },
  {
   "cell_type": "code",
   "execution_count": 89,
   "id": "3fcceb98",
   "metadata": {},
   "outputs": [
    {
     "name": "stdout",
     "output_type": "stream",
     "text": [
      "Sum of even numbers between 1 and 50 is: 650\n"
     ]
    }
   ],
   "source": [
    "summation= 0\n",
    "\n",
    "for i in range(1, 51):\n",
    "    if i % 2 == 0:\n",
    "        summation = summation + i\n",
    "\n",
    "print(\"Sum of even numbers between 1 and 50 is:\",summation)\n"
   ]
  },
  {
   "cell_type": "markdown",
   "id": "c5368528",
   "metadata": {},
   "source": [
    "# Que 14: Write a program to reverse a string using a while loop."
   ]
  },
  {
   "cell_type": "code",
   "execution_count": 91,
   "id": "64abce15",
   "metadata": {},
   "outputs": [
    {
     "name": "stdout",
     "output_type": "stream",
     "text": [
      "Enter a string: football\n",
      "Reversed string: llabtoof\n"
     ]
    }
   ],
   "source": [
    "text = input(\"Enter a string: \")\n",
    "reversed_text = \"\"\n",
    "i = 0\n",
    "\n",
    "while i < len(text):\n",
    "    reversed_text = text[i] + reversed_text\n",
    "    i = i + 1\n",
    "\n",
    "print(\"Reversed string:\", reversed_text)\n"
   ]
  },
  {
   "cell_type": "markdown",
   "id": "64911e39",
   "metadata": {},
   "source": [
    "# Que 15:  Write a Python program to calculate the factorial of a number provided by the user using a while loop."
   ]
  },
  {
   "cell_type": "code",
   "execution_count": 90,
   "id": "9faac2c3",
   "metadata": {},
   "outputs": [
    {
     "name": "stdout",
     "output_type": "stream",
     "text": [
      "Enter a number: 5\n",
      "Factorial of 5 is: 120\n"
     ]
    }
   ],
   "source": [
    "num = int(input(\"Enter a number: \"))\n",
    "fact = 1\n",
    "i = 1\n",
    "\n",
    "while i <= num:\n",
    "    fact = fact * i\n",
    "    i = i + 1\n",
    "print(\"Factorial of\", num, \"is:\", fact)"
   ]
  }
 ],
 "metadata": {
  "kernelspec": {
   "display_name": "Python 3 (ipykernel)",
   "language": "python",
   "name": "python3"
  },
  "language_info": {
   "codemirror_mode": {
    "name": "ipython",
    "version": 3
   },
   "file_extension": ".py",
   "mimetype": "text/x-python",
   "name": "python",
   "nbconvert_exporter": "python",
   "pygments_lexer": "ipython3",
   "version": "3.11.5"
  }
 },
 "nbformat": 4,
 "nbformat_minor": 5
}
