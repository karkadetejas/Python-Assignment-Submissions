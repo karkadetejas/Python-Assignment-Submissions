{
 "cells": [
  {
   "cell_type": "markdown",
   "id": "79b28599",
   "metadata": {},
   "source": [
    "# Python OOPs Questions"
   ]
  },
  {
   "cell_type": "code",
   "execution_count": null,
   "id": "2c108a18",
   "metadata": {},
   "outputs": [],
   "source": [
    "# 1.What is Object-Oriented Programming (OOP)\n",
    "# OOP is a programming paradigm that organizes code into objects that contain both data and functions.\n",
    "# It helps in reusability, scalability, and better organization of code.\n",
    "\n",
    "# 2. What is a class in OOP\n",
    "# A class is a blueprint or template used to create objects. It defines attributes and methods for those objects.\n",
    "\n",
    "# 3. What is an object in OOP\n",
    "# An object is an instance of a class that holds data (attributes) and functions (methods).\n",
    "\n",
    "# 4. What is the difference between abstraction and encapsulation\n",
    "# Abstraction hides implementation details, while encapsulation restricts direct access to internal data.\n",
    "\n",
    "# 5. What are dunder methods in Python\n",
    "# Dunder (Double Underscore) methods are special methods like __init__, __str__, __add__, etc. that define object behavior.\n",
    "\n",
    "# 6. Explain the concept of inheritance in OOP\n",
    "# Inheritance allows one class to use the properties and methods of another class.\n",
    "\n",
    "# 7. What is polymorphism in OOP\n",
    "# Polymorphism means one function or method can have different behaviors based on the object that calls it.\n",
    "\n",
    "# 8. How is encapsulation achieved in Python\n",
    "# Encapsulation is achieved by using private variables (prefix with __) and getter/setter methods.\n",
    "\n",
    "# 9. What is a constructor in Python\n",
    "# A constructor (__init__) is a special method called automatically when an object is created.\n",
    "\n",
    "# 10. What are class and static methods in Python\n",
    "# Class methods use @classmethod and can access class-level data.\n",
    "# Static methods use @staticmethod and don’t depend on class or instance data.\n",
    "\n",
    "# 11. What is method overloading in Python\n",
    "# Python doesn’t support method overloading directly; it can be mimicked using default arguments.\n",
    "\n",
    "# 12. What is method overriding in OOP\n",
    "# Method overriding occurs when a child class redefines a method of its parent class.\n",
    "\n",
    "# 13. What is a property decorator in Python\n",
    "# @property is used to make class methods behave like attributes.\n",
    "\n",
    "# 14. Why is polymorphism important in OOP\n",
    "# It makes code flexible and reusable by allowing one interface to work with different object types.\n",
    "\n",
    "# 15. What is an abstract class in Python\n",
    "# An abstract class has one or more abstract methods and cannot be instantiated directly.\n",
    "\n",
    "# 16. What are the advantages of OOP\n",
    "# Advantages include reusability, modularity, scalability, and easier maintenance.\n",
    "\n",
    "# 17. What is multiple inheritance in Python\n",
    "# Multiple inheritance means a class can inherit from more than one parent class.\n",
    "\n",
    "# 18. What is the difference between a class variable and an instance variable\n",
    "# Class variables are shared among all objects, while instance variables are unique to each object.\n",
    "\n",
    "# 19. Explain the purpose of __str__ and __repr__ methods in Python\n",
    "# __str__ returns a user-friendly string; __repr__ returns a technical representation of the object.\n",
    "\n",
    "# 20. What is the significance of the super() function in Python\n",
    "# super() is used to call a method from the parent class.\n",
    "\n",
    "# 21. What is the significance of the __del__ method in Python\n",
    "# It is called when an object is deleted or destroyed.\n",
    "\n",
    "# 22. What is the difference between @staticmethod and @classmethod in Python\n",
    "# @classmethod takes cls as the first argument; @staticmethod doesn’t take cls or self.\n",
    "\n",
    "# 23. How does polymorphism work in Python with inheritance\n",
    "# Child classes override parent methods, and the correct method runs depending on the object type.\n",
    "\n",
    "# 24. What is method chaining in Python OOP\n",
    "# It means calling multiple methods in a single line, like obj.method1().method2().method3()\n",
    "\n",
    "# 25. What is the purpose of the __call__ method in Python\n",
    "# It allows an object to be called like a function.\n"
   ]
  },
  {
   "cell_type": "code",
   "execution_count": 5,
   "id": "a6058cc9",
   "metadata": {},
   "outputs": [
    {
     "name": "stdout",
     "output_type": "stream",
     "text": [
      "Bark!\n"
     ]
    }
   ],
   "source": [
    "\n",
    "# 1. Parent class and child class overriding\n",
    "class Animal:\n",
    "    def speak(self):\n",
    "        print(\"Some generic sound\")\n",
    "\n",
    "class Dog(Animal):\n",
    "    def speak(self):\n",
    "        print(\"Bark!\")\n",
    "\n",
    "d = Dog()\n",
    "d.speak()"
   ]
  },
  {
   "cell_type": "code",
   "execution_count": 6,
   "id": "5573dfa5",
   "metadata": {},
   "outputs": [
    {
     "name": "stdout",
     "output_type": "stream",
     "text": [
      "78.5\n",
      "24\n"
     ]
    }
   ],
   "source": [
    "# 2. Abstract class and derived classes\n",
    "from abc import ABC, abstractmethod\n",
    "\n",
    "class Shape(ABC):\n",
    "    @abstractmethod\n",
    "    def area(self):\n",
    "        pass\n",
    "\n",
    "class Circle(Shape):\n",
    "    def __init__(self, radius):\n",
    "        self.radius = radius\n",
    "\n",
    "    def area(self):\n",
    "        return 3.14 * self.radius ** 2\n",
    "\n",
    "class Rectangle(Shape):\n",
    "    def __init__(self, length, width):\n",
    "        self.length = length\n",
    "        self.width = width\n",
    "\n",
    "    def area(self):\n",
    "        return self.length * self.width\n",
    "\n",
    "c = Circle(5)\n",
    "r = Rectangle(4, 6)\n",
    "print(c.area())\n",
    "print(r.area())\n"
   ]
  },
  {
   "cell_type": "code",
   "execution_count": 7,
   "id": "57e4de35",
   "metadata": {},
   "outputs": [
    {
     "name": "stdout",
     "output_type": "stream",
     "text": [
      "Electric Tesla 100kWh\n"
     ]
    }
   ],
   "source": [
    "# 3. Multi-level inheritance\n",
    "class Vehicle:\n",
    "    def __init__(self, type):\n",
    "        self.type = type\n",
    "\n",
    "class Car(Vehicle):\n",
    "    def __init__(self, type, brand):\n",
    "        super().__init__(type)\n",
    "        self.brand = brand\n",
    "\n",
    "class ElectricCar(Car):\n",
    "    def __init__(self, type, brand, battery):\n",
    "        super().__init__(type, brand)\n",
    "        self.battery = battery\n",
    "\n",
    "ec = ElectricCar(\"Electric\", \"Tesla\", \"100kWh\")\n",
    "print(ec.type, ec.brand, ec.battery)"
   ]
  },
  {
   "cell_type": "code",
   "execution_count": 8,
   "id": "107e5fb9",
   "metadata": {},
   "outputs": [
    {
     "name": "stdout",
     "output_type": "stream",
     "text": [
      "Sparrow flies high\n",
      "Penguin cannot fly\n"
     ]
    }
   ],
   "source": [
    "# 4. Polymorphism example\n",
    "class Bird:\n",
    "    def fly(self):\n",
    "        print(\"Bird is flying\")\n",
    "\n",
    "class Sparrow(Bird):\n",
    "    def fly(self):\n",
    "        print(\"Sparrow flies high\")\n",
    "\n",
    "class Penguin(Bird):\n",
    "    def fly(self):\n",
    "        print(\"Penguin cannot fly\")\n",
    "\n",
    "for bird in [Sparrow(), Penguin()]:\n",
    "    bird.fly()\n"
   ]
  },
  {
   "cell_type": "code",
   "execution_count": 9,
   "id": "53f279b9",
   "metadata": {},
   "outputs": [
    {
     "name": "stdout",
     "output_type": "stream",
     "text": [
      "Balance: ₹800\n"
     ]
    }
   ],
   "source": [
    "# 5. Encapsulation\n",
    "class BankAccount:\n",
    "    def __init__(self):\n",
    "        self.__balance = 0\n",
    "\n",
    "    def deposit(self, amount):\n",
    "        self.__balance += amount\n",
    "\n",
    "    def withdraw(self, amount):\n",
    "        if amount <= self.__balance:\n",
    "            self.__balance -= amount\n",
    "\n",
    "    def check_balance(self):\n",
    "        print(f\"Balance: ₹{self.__balance}\")\n",
    "\n",
    "acc = BankAccount()\n",
    "acc.deposit(1000)\n",
    "acc.withdraw(200)\n",
    "acc.check_balance()\n"
   ]
  },
  {
   "cell_type": "code",
   "execution_count": 10,
   "id": "2cb90e40",
   "metadata": {},
   "outputs": [
    {
     "name": "stdout",
     "output_type": "stream",
     "text": [
      "Playing guitar\n",
      "Playing piano\n"
     ]
    }
   ],
   "source": [
    "# 6. Runtime polymorphism\n",
    "class Instrument:\n",
    "    def play(self):\n",
    "        print(\"Playing instrument\")\n",
    "\n",
    "class Guitar(Instrument):\n",
    "    def play(self):\n",
    "        print(\"Playing guitar\")\n",
    "\n",
    "class Piano(Instrument):\n",
    "    def play(self):\n",
    "        print(\"Playing piano\")\n",
    "\n",
    "for i in [Guitar(), Piano()]:\n",
    "    i.play()"
   ]
  },
  {
   "cell_type": "code",
   "execution_count": 11,
   "id": "044ff217",
   "metadata": {},
   "outputs": [
    {
     "name": "stdout",
     "output_type": "stream",
     "text": [
      "8\n",
      "4\n"
     ]
    }
   ],
   "source": [
    "# 7. Class and static methods\n",
    "class MathOperations:\n",
    "    @classmethod\n",
    "    def add_numbers(cls, a, b):\n",
    "        return a + b\n",
    "\n",
    "    @staticmethod\n",
    "    def subtract_numbers(a, b):\n",
    "        return a - b\n",
    "\n",
    "print(MathOperations.add_numbers(5, 3))\n",
    "print(MathOperations.subtract_numbers(10, 6))\n"
   ]
  },
  {
   "cell_type": "code",
   "execution_count": 12,
   "id": "10b8e8d8",
   "metadata": {},
   "outputs": [
    {
     "name": "stdout",
     "output_type": "stream",
     "text": [
      "2\n"
     ]
    }
   ],
   "source": [
    "# 8. Counting objects using class method\n",
    "class Person:\n",
    "    count = 0\n",
    "\n",
    "    def __init__(self, name):\n",
    "        self.name = name\n",
    "        Person.count += 1\n",
    "\n",
    "    @classmethod\n",
    "    def total_persons(cls):\n",
    "        return cls.count\n",
    "\n",
    "p1 = Person(\"Tejas\")\n",
    "p2 = Person(\"Ravi\")\n",
    "print(Person.total_persons())"
   ]
  },
  {
   "cell_type": "code",
   "execution_count": 13,
   "id": "86979241",
   "metadata": {},
   "outputs": [
    {
     "name": "stdout",
     "output_type": "stream",
     "text": [
      "2/5\n"
     ]
    }
   ],
   "source": [
    "# 9. Overriding __str__\n",
    "class Fraction:\n",
    "    def __init__(self, numerator, denominator):\n",
    "        self.numerator = numerator\n",
    "        self.denominator = denominator\n",
    "\n",
    "    def __str__(self):\n",
    "        return f\"{self.numerator}/{self.denominator}\"\n",
    "\n",
    "f = Fraction(2, 5)\n",
    "print(f)"
   ]
  },
  {
   "cell_type": "code",
   "execution_count": 14,
   "id": "18ccbad2",
   "metadata": {},
   "outputs": [
    {
     "name": "stdout",
     "output_type": "stream",
     "text": [
      "(6, 8)\n"
     ]
    }
   ],
   "source": [
    "# 10. Operator overloading\n",
    "class Vector:\n",
    "    def __init__(self, x, y):\n",
    "        self.x = x\n",
    "        self.y = y\n",
    "\n",
    "    def __add__(self, other):\n",
    "        return Vector(self.x + other.x, self.y + other.y)\n",
    "\n",
    "    def __str__(self):\n",
    "        return f\"({self.x}, {self.y})\"\n",
    "\n",
    "v1 = Vector(2, 3)\n",
    "v2 = Vector(4, 5)\n",
    "print(v1 + v2)"
   ]
  },
  {
   "cell_type": "code",
   "execution_count": 15,
   "id": "7dd7f79e",
   "metadata": {},
   "outputs": [
    {
     "name": "stdout",
     "output_type": "stream",
     "text": [
      "Hello, my name is Tejas and I am 23 years old.\n"
     ]
    }
   ],
   "source": [
    "# 11. Class Person\n",
    "class Person:\n",
    "    def __init__(self, name, age):\n",
    "        self.name = name\n",
    "        self.age = age\n",
    "\n",
    "    def greet(self):\n",
    "        print(f\"Hello, my name is {self.name} and I am {self.age} years old.\")\n",
    "\n",
    "p = Person(\"Tejas\", 23)\n",
    "p.greet()"
   ]
  },
  {
   "cell_type": "code",
   "execution_count": 16,
   "id": "a8375997",
   "metadata": {},
   "outputs": [
    {
     "name": "stdout",
     "output_type": "stream",
     "text": [
      "85.0\n"
     ]
    }
   ],
   "source": [
    "# 12. Student average grade\n",
    "class Student:\n",
    "    def __init__(self, name, grades):\n",
    "        self.name = name\n",
    "        self.grades = grades\n",
    "\n",
    "    def average_grade(self):\n",
    "        return sum(self.grades) / len(self.grades)\n",
    "\n",
    "s = Student(\"Riya\", [80, 90, 85])\n",
    "print(s.average_grade())"
   ]
  },
  {
   "cell_type": "code",
   "execution_count": 17,
   "id": "2ff1170b",
   "metadata": {},
   "outputs": [
    {
     "name": "stdout",
     "output_type": "stream",
     "text": [
      "15\n"
     ]
    }
   ],
   "source": [
    "# 13. Rectangle class\n",
    "class Rectangle:\n",
    "    def set_dimensions(self, length, width):\n",
    "        self.length = length\n",
    "        self.width = width\n",
    "\n",
    "    def area(self):\n",
    "        return self.length * self.width\n",
    "\n",
    "r = Rectangle()\n",
    "r.set_dimensions(5, 3)\n",
    "print(r.area())"
   ]
  },
  {
   "cell_type": "code",
   "execution_count": 18,
   "id": "0cca7998",
   "metadata": {},
   "outputs": [
    {
     "name": "stdout",
     "output_type": "stream",
     "text": [
      "13000\n"
     ]
    }
   ],
   "source": [
    "# 14. Employee and Manager\n",
    "class Employee:\n",
    "    def calculate_salary(self, hours, rate):\n",
    "        return hours * rate\n",
    "\n",
    "class Manager(Employee):\n",
    "    def calculate_salary(self, hours, rate, bonus):\n",
    "        return super().calculate_salary(hours, rate) + bonus\n",
    "\n",
    "m = Manager()\n",
    "print(m.calculate_salary(40, 200, 5000))"
   ]
  },
  {
   "cell_type": "code",
   "execution_count": 19,
   "id": "6f768c9b",
   "metadata": {},
   "outputs": [
    {
     "name": "stdout",
     "output_type": "stream",
     "text": [
      "100000\n"
     ]
    }
   ],
   "source": [
    "# 15. Product total price\n",
    "class Product:\n",
    "    def __init__(self, name, price, quantity):\n",
    "        self.name = name\n",
    "        self.price = price\n",
    "        self.quantity = quantity\n",
    "\n",
    "    def total_price(self):\n",
    "        return self.price * self.quantity\n",
    "\n",
    "p = Product(\"Laptop\", 50000, 2)\n",
    "print(p.total_price())"
   ]
  },
  {
   "cell_type": "code",
   "execution_count": 20,
   "id": "60b17ee8",
   "metadata": {},
   "outputs": [
    {
     "name": "stdout",
     "output_type": "stream",
     "text": [
      "Moo\n",
      "Baa\n"
     ]
    }
   ],
   "source": [
    "# 16. Abstract Animal\n",
    "class Animal(ABC):\n",
    "    @abstractmethod\n",
    "    def sound(self):\n",
    "        pass\n",
    "\n",
    "class Cow(Animal):\n",
    "    def sound(self):\n",
    "        print(\"Moo\")\n",
    "\n",
    "class Sheep(Animal):\n",
    "    def sound(self):\n",
    "        print(\"Baa\")\n",
    "\n",
    "for a in [Cow(), Sheep()]:\n",
    "    a.sound()"
   ]
  },
  {
   "cell_type": "code",
   "execution_count": 21,
   "id": "75ca9bb7",
   "metadata": {},
   "outputs": [
    {
     "name": "stdout",
     "output_type": "stream",
     "text": [
      "'Python Basics' by John Doe, published in 2020\n"
     ]
    }
   ],
   "source": [
    "# 17. Book class\n",
    "class Book:\n",
    "    def __init__(self, title, author, year):\n",
    "        self.title = title\n",
    "        self.author = author\n",
    "        self.year = year\n",
    "\n",
    "    def get_book_info(self):\n",
    "        return f\"'{self.title}' by {self.author}, published in {self.year}\"\n",
    "\n",
    "b = Book(\"Python Basics\", \"John Doe\", 2020)\n",
    "print(b.get_book_info())\n"
   ]
  },
  {
   "cell_type": "code",
   "execution_count": 22,
   "id": "a462176f",
   "metadata": {},
   "outputs": [
    {
     "name": "stdout",
     "output_type": "stream",
     "text": [
      "Pune 5000000 10\n"
     ]
    }
   ],
   "source": [
    "# 18. House and Mansion\n",
    "class House:\n",
    "    def __init__(self, address, price):\n",
    "        self.address = address\n",
    "        self.price = price\n",
    "\n",
    "class Mansion(House):\n",
    "    def __init__(self, address, price, rooms):\n",
    "        super().__init__(address, price)\n",
    "        self.rooms = rooms\n",
    "\n",
    "m = Mansion(\"Pune\", 5000000, 10)\n",
    "print(m.address, m.price, m.rooms)\n"
   ]
  }
 ],
 "metadata": {
  "kernelspec": {
   "display_name": "Python 3 (ipykernel)",
   "language": "python",
   "name": "python3"
  },
  "language_info": {
   "codemirror_mode": {
    "name": "ipython",
    "version": 3
   },
   "file_extension": ".py",
   "mimetype": "text/x-python",
   "name": "python",
   "nbconvert_exporter": "python",
   "pygments_lexer": "ipython3",
   "version": "3.11.5"
  }
 },
 "nbformat": 4,
 "nbformat_minor": 5
}
