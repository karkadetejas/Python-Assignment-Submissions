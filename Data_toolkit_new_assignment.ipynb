{
 "cells": [
  {
   "cell_type": "markdown",
   "id": "db15804a",
   "metadata": {},
   "source": [
    "# 1.What is the difference between multithreading and multiprocessing?"
   ]
  },
  {
   "cell_type": "markdown",
   "id": "91958826",
   "metadata": {},
   "source": [
    "Answer:  \n",
    "Multithreading runs multiple threads (smaller units) in the same memory space.  \n",
    "Multiprocessing runs multiple processes in separate memory spaces.  \n",
    "Multithreading is best for I/O-bound tasks, while multiprocessing is ideal for CPU-bound tasks."
   ]
  },
  {
   "cell_type": "markdown",
   "id": "60ec0638",
   "metadata": {},
   "source": [
    "# 2.What are the challenges associated with memory management in Python?"
   ]
  },
  {
   "cell_type": "markdown",
   "id": "3fb644ef",
   "metadata": {},
   "source": [
    "Answer:\n",
    "\n",
    "Challenges include:  \n",
    "1.Memory leaks from circular references.  \n",
    "2.Large object handling consuming too much memory.  \n",
    "3.Objects kept in memory due to references not being cleared."
   ]
  },
  {
   "cell_type": "markdown",
   "id": "1c90e6d1",
   "metadata": {},
   "source": [
    "# 3.Write a Python program that logs an error message to a log file when a division by zero exception occurs."
   ]
  },
  {
   "cell_type": "code",
   "execution_count": 2,
   "id": "1a1238a8",
   "metadata": {},
   "outputs": [],
   "source": [
    "import logging\n",
    "\n",
    "logging.basicConfig(filename=\"error_log.txt\", level=logging.ERROR)\n",
    "\n",
    "try:\n",
    "    x = 10\n",
    "    y = 0\n",
    "    result = x / y\n",
    "except ZeroDivisionError:\n",
    "    logging.error(\"Division by zero error occurred.\")"
   ]
  },
  {
   "cell_type": "markdown",
   "id": "a8c817e4",
   "metadata": {},
   "source": [
    "# 4.Write a Python program that reads from one file and writes its content to another file."
   ]
  },
  {
   "cell_type": "code",
   "execution_count": 3,
   "id": "84bf9d89",
   "metadata": {},
   "outputs": [
    {
     "ename": "FileNotFoundError",
     "evalue": "[Errno 2] No such file or directory: 'source.txt'",
     "output_type": "error",
     "traceback": [
      "\u001b[1;31m---------------------------------------------------------------------------\u001b[0m",
      "\u001b[1;31mFileNotFoundError\u001b[0m                         Traceback (most recent call last)",
      "Cell \u001b[1;32mIn[3], line 2\u001b[0m\n\u001b[0;32m      1\u001b[0m \u001b[38;5;66;03m# Reading and writing between files\u001b[39;00m\n\u001b[1;32m----> 2\u001b[0m \u001b[38;5;28;01mwith\u001b[39;00m \u001b[38;5;28mopen\u001b[39m(\u001b[38;5;124m\"\u001b[39m\u001b[38;5;124msource.txt\u001b[39m\u001b[38;5;124m\"\u001b[39m, \u001b[38;5;124m\"\u001b[39m\u001b[38;5;124mr\u001b[39m\u001b[38;5;124m\"\u001b[39m) \u001b[38;5;28;01mas\u001b[39;00m src:\n\u001b[0;32m      3\u001b[0m     content \u001b[38;5;241m=\u001b[39m src\u001b[38;5;241m.\u001b[39mread()\n\u001b[0;32m      5\u001b[0m \u001b[38;5;28;01mwith\u001b[39;00m \u001b[38;5;28mopen\u001b[39m(\u001b[38;5;124m\"\u001b[39m\u001b[38;5;124mdestination.txt\u001b[39m\u001b[38;5;124m\"\u001b[39m, \u001b[38;5;124m\"\u001b[39m\u001b[38;5;124mw\u001b[39m\u001b[38;5;124m\"\u001b[39m) \u001b[38;5;28;01mas\u001b[39;00m dest:\n",
      "File \u001b[1;32m~\\anaconda3\\Lib\\site-packages\\IPython\\core\\interactiveshell.py:286\u001b[0m, in \u001b[0;36m_modified_open\u001b[1;34m(file, *args, **kwargs)\u001b[0m\n\u001b[0;32m    279\u001b[0m \u001b[38;5;28;01mif\u001b[39;00m file \u001b[38;5;129;01min\u001b[39;00m {\u001b[38;5;241m0\u001b[39m, \u001b[38;5;241m1\u001b[39m, \u001b[38;5;241m2\u001b[39m}:\n\u001b[0;32m    280\u001b[0m     \u001b[38;5;28;01mraise\u001b[39;00m \u001b[38;5;167;01mValueError\u001b[39;00m(\n\u001b[0;32m    281\u001b[0m         \u001b[38;5;124mf\u001b[39m\u001b[38;5;124m\"\u001b[39m\u001b[38;5;124mIPython won\u001b[39m\u001b[38;5;124m'\u001b[39m\u001b[38;5;124mt let you open fd=\u001b[39m\u001b[38;5;132;01m{\u001b[39;00mfile\u001b[38;5;132;01m}\u001b[39;00m\u001b[38;5;124m by default \u001b[39m\u001b[38;5;124m\"\u001b[39m\n\u001b[0;32m    282\u001b[0m         \u001b[38;5;124m\"\u001b[39m\u001b[38;5;124mas it is likely to crash IPython. If you know what you are doing, \u001b[39m\u001b[38;5;124m\"\u001b[39m\n\u001b[0;32m    283\u001b[0m         \u001b[38;5;124m\"\u001b[39m\u001b[38;5;124myou can use builtins\u001b[39m\u001b[38;5;124m'\u001b[39m\u001b[38;5;124m open.\u001b[39m\u001b[38;5;124m\"\u001b[39m\n\u001b[0;32m    284\u001b[0m     )\n\u001b[1;32m--> 286\u001b[0m \u001b[38;5;28;01mreturn\u001b[39;00m io_open(file, \u001b[38;5;241m*\u001b[39margs, \u001b[38;5;241m*\u001b[39m\u001b[38;5;241m*\u001b[39mkwargs)\n",
      "\u001b[1;31mFileNotFoundError\u001b[0m: [Errno 2] No such file or directory: 'source.txt'"
     ]
    }
   ],
   "source": [
    "# Reading and writing between files\n",
    "with open(\"source.txt\", \"r\") as src:\n",
    "    content = src.read()\n",
    "\n",
    "with open(\"destination.txt\", \"w\") as dest:\n",
    "    dest.write(content)"
   ]
  },
  {
   "cell_type": "markdown",
   "id": "c67aa283",
   "metadata": {},
   "source": [
    "# 5.Write a program that handles both IndexError and KeyError using a try-except block."
   ]
  },
  {
   "cell_type": "code",
   "execution_count": 4,
   "id": "29fb3148",
   "metadata": {},
   "outputs": [
    {
     "name": "stdout",
     "output_type": "stream",
     "text": [
      "Index out of range!\n"
     ]
    }
   ],
   "source": [
    "try:\n",
    "    my_list = [10, 20, 30]\n",
    "    print(my_list[5])  # IndexError\n",
    "\n",
    "    my_dict = {\"a\": 1}\n",
    "    print(my_dict[\"b\"])  # KeyError\n",
    "\n",
    "except IndexError:\n",
    "    print(\"Index out of range!\")\n",
    "except KeyError:\n",
    "    print(\"Key not found!\")"
   ]
  },
  {
   "cell_type": "markdown",
   "id": "c22386be",
   "metadata": {},
   "source": [
    "# 6.What are the differences between NumPy arrays and Python lists?"
   ]
  },
  {
   "cell_type": "markdown",
   "id": "a1ce9464",
   "metadata": {},
   "source": [
    "1. Type of Elements:\n",
    "NumPy arrays can only store elements of the same data type, such as all integers or all floats. This makes operations faster and more efficient. In contrast, Python lists can hold elements of different data types, such as integers, strings, and floats together, which makes them more flexible but less efficient in numerical computations.\n",
    "\n",
    "\n",
    "2. Performance:\n",
    "NumPy arrays are significantly faster than Python lists because they are implemented in C and use contiguous blocks of memory. This allows vectorized operations and efficient computation. Python lists, on the other hand, are slower since each element is a separate object stored at different memory locations, leading to overhead during processing.\n",
    "\n",
    "\n",
    "3. Memory Usage:\n",
    "NumPy arrays are more memory-efficient because they store data in a compact form using homogeneous types. Python lists consume more memory since each element is a Python object that carries additional information such as type and reference count.\n",
    "\n",
    "\n",
    "4. Mathematical Operations:\n",
    "NumPy arrays support vectorized operations, meaning you can perform arithmetic directly on the entire array without using loops. For example, adding or multiplying arrays happens element-wise. In Python lists, similar operations require explicit loops or list comprehensions, making the process slower and less elegant.\n",
    "\n",
    "\n",
    "5. Functionality:\n",
    "NumPy provides a rich set of built-in mathematical and statistical functions that make numerical analysis and scientific computing much easier. Python lists have limited mathematical functionality and rely on manual coding for complex operations.\n",
    "\n",
    "\n",
    "6. Dimension Support:\n",
    "NumPy arrays can handle multi-dimensional data easily, such as 2D matrices or 3D tensors, which are essential in data science and machine learning. Python lists are mainly one-dimensional, and while nested lists can represent multiple dimensions, they are cumbersome and inefficient to manipulate."
   ]
  },
  {
   "cell_type": "markdown",
   "id": "7e13d47d",
   "metadata": {},
   "source": [
    "# 7.Explain the difference between apply() and map() in Pandas."
   ]
  },
  {
   "cell_type": "markdown",
   "id": "ec138d0a",
   "metadata": {},
   "source": [
    "Answer:\n",
    "\n",
    "map(): Used for applying a function on a Series (single column).  \n",
    "apply(): Used for applying a function across rows or columns in a DataFrame."
   ]
  },
  {
   "cell_type": "markdown",
   "id": "57eb5524",
   "metadata": {},
   "source": [
    "# 8.Create a histogram using Seaborn to visualize a distribution."
   ]
  },
  {
   "cell_type": "code",
   "execution_count": 5,
   "id": "9b9de908",
   "metadata": {},
   "outputs": [
    {
     "data": {
      "image/png": "[encoded data removed]",
      "text/plain": [
       "<Figure size 640x480 with 1 Axes>"
      ]
     },
     "metadata": {},
     "output_type": "display_data"
    }
   ],
   "source": [
    "import seaborn as sns\n",
    "import matplotlib.pyplot as plt\n",
    "\n",
    "data = [10, 15, 15, 20, 25, 30, 35, 35, 40, 45]\n",
    "sns.histplot(data, bins=5, kde=True, color=\"skyblue\")\n",
    "plt.title(\"Histogram Example\")\n",
    "plt.show()"
   ]
  },
  {
   "cell_type": "markdown",
   "id": "f3bc898a",
   "metadata": {},
   "source": [
    "# 9.Use Pandas to load a CSV file and display its first 5 rows."
   ]
  },
  {
   "cell_type": "code",
   "execution_count": 7,
   "id": "33db0cca",
   "metadata": {},
   "outputs": [
    {
     "name": "stdout",
     "output_type": "stream",
     "text": [
      "   OrderID        Date     Category     ProductName  OriginalPrice  Discount%  \\\n",
      "0  ORD1000  2024-10-12  Electronics      Smartphone          63598         30   \n",
      "1  ORD1001  2024-10-11    Furniture           Table           3520         10   \n",
      "2  ORD1002  2024-10-13    Furniture           Table           6611         40   \n",
      "3  ORD1003  2024-10-10      Grocery  Cooking Oil 5L            918         20   \n",
      "4  ORD1004  2024-10-11  Electronics      Headphones           9027         50   \n",
      "\n",
      "   SalePrice  Quantity  TotalSale     PaymentMethod  Region  \n",
      "0      44518         2      89036       Credit Card  Mumbai  \n",
      "1       3168         1       3168       Credit Card  Mumbai  \n",
      "2       3966         5      19830               NaN  Jaipur  \n",
      "3        734         3       2202               UPI   Delhi  \n",
      "4       4513         1       4513  Cash on Delivery   Delhi  \n"
     ]
    }
   ],
   "source": [
    "import pandas as pd\n",
    "\n",
    "data = pd.read_csv(\"flipkart_data.csv\")\n",
    "print(data.head())"
   ]
  },
  {
   "cell_type": "markdown",
   "id": "c962ddd4",
   "metadata": {},
   "source": [
    "# 10.Calculate the correlation matrix using Seaborn and visualize it with a heatmap."
   ]
  },
  {
   "cell_type": "code",
   "execution_count": 6,
   "id": "231e1186",
   "metadata": {},
   "outputs": [
    {
     "data": {
      "image/png": "[encoded data removed]",
      "text/plain": [
       "<Figure size 640x480 with 2 Axes>"
      ]
     },
     "metadata": {},
     "output_type": "display_data"
    }
   ],
   "source": [
    "import seaborn as sns\n",
    "import pandas as pd\n",
    "import matplotlib.pyplot as plt\n",
    "\n",
    "df = pd.DataFrame({\n",
    "    \"A\": [1, 2, 3, 4, 5],\n",
    "    \"B\": [5, 4, 3, 2, 1],\n",
    "    \"C\": [2, 3, 4, 5, 6]\n",
    "})\n",
    "\n",
    "corr = df.corr()\n",
    "sns.heatmap(corr, annot=True, cmap=\"coolwarm\")\n",
    "plt.title(\"Correlation Heatmap\")\n",
    "plt.show()"
   ]
  }
 ],
 "metadata": {
  "kernelspec": {
   "display_name": "Python 3 (ipykernel)",
   "language": "python",
   "name": "python3"
  },
  "language_info": {
   "codemirror_mode": {
    "name": "ipython",
    "version": 3
   },
   "file_extension": ".py",
   "mimetype": "text/x-python",
   "name": "python",
   "nbconvert_exporter": "python",
   "pygments_lexer": "ipython3",
   "version": "3.11.5"
  }
 },
 "nbformat": 4,
 "nbformat_minor": 5
}
