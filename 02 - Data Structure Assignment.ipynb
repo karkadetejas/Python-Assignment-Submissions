{
 "cells": [
  {
   "cell_type": "markdown",
   "id": "b51915b1",
   "metadata": {},
   "source": [
    "# Data Types and Structures Questions"
   ]
  },
  {
   "cell_type": "markdown",
   "id": "6ea569da",
   "metadata": {},
   "source": [
    "1. What are data structures, and why are they important\n",
    "\n",
    "ANS: Data structures are ways to organize and store data in a computer so it can be used efficiently. They are important because they help in managing large amounts of data, making searching, inserting, and deleting easier and faster.\n",
    "\n",
    "\n",
    "2. Explain the difference between mutable and immutable data types with examples\n",
    "\n",
    "ANS: Mutable data types can be changed after creation (like lists, dictionaries, sets). Immutable data types cannot be changed after creation (like strings, tuples). Example: a list can add/remove items, but a string cannot be changed directly.\n",
    "\n",
    "\n",
    "3. What are the main differences between lists and tuples in Python\n",
    "\n",
    "ANS: Lists are mutable, meaning elements can be changed, added, or removed. Tuples are immutable, meaning once created, elements cannot be changed. Also, lists use square brackets[ ] , while tuples use parentheses ( ).\n",
    "\n",
    "\n",
    "4. Describe how dictionaries store data\n",
    "\n",
    "ANS: Dictionaries store data as key-value pairs. Each key is unique, and it maps to a value. This makes looking up data very fast using the key.\n",
    "\n",
    "\n",
    "5. Why might you use a set instead of a list in Python\n",
    "\n",
    "ANS: A set is used when you need unique values without duplicates. Sets are also faster for checking membership (using 'in').\n",
    "\n",
    "\n",
    "6. What is a string in Python, and how is it different from a list\n",
    "ANS: A string is a sequence of characters enclosed in quotes. A list can hold different data types, but a string only holds characters. Also, strings are immutable, while lists are mutable.\n",
    "\n",
    "\n",
    "7. How do tuples ensure data integrity in Python\n",
    "\n",
    "ANS: Tuples are immutable, so once created, their data cannot be changed. This ensures that the stored data remains constant and safe from accidental modification.\n",
    "\n",
    "\n",
    "8. What is a hash table, and how does it relate to dictionaries in Python\n",
    "\n",
    "ANS: A hash table is a data structure that maps keys to values using a hash function. In Python, dictionaries are implemented using hash tables.\n",
    "\n",
    "\n",
    "9. Can lists contain different data types in Python\n",
    "\n",
    "ANS: Yes, lists can contain elements of different data types, such as integers, strings, floats, or even other lists.\n",
    "\n",
    "\n",
    "10. Explain why strings are immutable in Python\n",
    "\n",
    "ANS: Strings are immutable to ensure security, efficiency, and thread safety. Once created, a string cannot be changed, which avoids unexpected behavior.\n",
    "\n",
    "\n",
    "11. What advantages do dictionaries offer over lists for certain tasks\n",
    "\n",
    "ANS: Dictionaries allow faster access to data using keys instead of indexes. This makes them better when quick lookups are needed.\n",
    "\n",
    "\n",
    "12. How do sets handle duplicate values in Python\n",
    "\n",
    "ANS: Sets automatically remove duplicate values. If you add the same element multiple times, it will appear only once in the set.\n",
    "\n",
    "\n",
    "13. Describe a scenario where using a tuple would be preferable over a list\n",
    "\n",
    "ANS: If you want to store data that should not change, such as coordinates (x, y), using a tuple is preferable to protect data from modification.\n",
    "\n",
    "\n",
    "14. How does the 'in' keyword work differently for lists and dictionaries\n",
    "\n",
    "ANS: In lists, 'in' checks if a value exists in the list. In dictionaries, 'in' checks if a key exists, not the value.\n",
    "\n",
    "\n",
    "15. Can you modify the elements of a tuple? Explain why or why not\n",
    "\n",
    "ANS: No, elements of a tuple cannot be modified because tuples are immutable.\n",
    "\n",
    "\n",
    "16. What is a nested dictionary, and give an example of its use case\n",
    "\n",
    "ANS: A nested dictionary is a dictionary inside another dictionary. Example: student = {'name': 'John', 'marks': {'math': 90, 'science': 85}}.\n",
    "\n",
    "\n",
    "17. Describe the time complexity of accessing elements in a dictionary\n",
    "\n",
    "ANS: Accessing elements in a dictionary has an average time complexity of O(1) because dictionaries use hash tables.\n",
    "\n",
    "\n",
    "18. In what situations are lists preferred over dictionaries\n",
    "\n",
    "ANS: Lists are preferred when the order of elements matters or when you need to store data sequentially without key-value mapping.\n",
    "\n",
    "\n",
    "19. Why are dictionaries considered unordered, and how does that affect data retrieval\n",
    "\n",
    "ANS: Dictionaries are unordered because they use hash tables, so data is not stored in a fixed sequence. Data retrieval is done by key, not position.\n",
    "\n",
    "\n",
    "20. Explain the difference between a list and a dictionary in terms of data retrieval\n",
    "\n",
    "ANS: In a list, data is retrieved using an index (position). In a dictionary, data is retrieved using a key.\n",
    "\n",
    "\n",
    "\n"
   ]
  },
  {
   "cell_type": "code",
   "execution_count": null,
   "id": "2fdbbe35",
   "metadata": {},
   "outputs": [],
   "source": []
  },
  {
   "cell_type": "markdown",
   "id": "3b8ad41e",
   "metadata": {},
   "source": [
    "#  Practical Questions"
   ]
  },
  {
   "cell_type": "markdown",
   "id": "fef40e46",
   "metadata": {},
   "source": [
    "**1. Write a code to create a string with your name and print it**"
   ]
  },
  {
   "cell_type": "code",
   "execution_count": 1,
   "id": "982e229d",
   "metadata": {},
   "outputs": [
    {
     "name": "stdout",
     "output_type": "stream",
     "text": [
      "Tejas\n"
     ]
    }
   ],
   "source": [
    "name = \"Tejas\"\n",
    "print(name)"
   ]
  },
  {
   "cell_type": "markdown",
   "id": "4874276d",
   "metadata": {},
   "source": [
    "**2. Write a code to find the length of the string 'Hello World'**"
   ]
  },
  {
   "cell_type": "code",
   "execution_count": 2,
   "id": "7c2aed10",
   "metadata": {},
   "outputs": [
    {
     "name": "stdout",
     "output_type": "stream",
     "text": [
      "11\n"
     ]
    }
   ],
   "source": [
    "text = \"Hello World\"\n",
    "print(len(text))"
   ]
  },
  {
   "cell_type": "markdown",
   "id": "7cdbe419",
   "metadata": {},
   "source": [
    "**3. Write a code to slice the first 3 characters from the string 'Python Programming'**"
   ]
  },
  {
   "cell_type": "code",
   "execution_count": 3,
   "id": "3fd9eefe",
   "metadata": {},
   "outputs": [
    {
     "name": "stdout",
     "output_type": "stream",
     "text": [
      "Pyt\n"
     ]
    }
   ],
   "source": [
    "text = \"Python Programming\"\n",
    "print(text[:3])"
   ]
  },
  {
   "cell_type": "markdown",
   "id": "fdc8cac4",
   "metadata": {},
   "source": [
    "**4. Write a code to convert the string 'hello' to uppercase**"
   ]
  },
  {
   "cell_type": "code",
   "execution_count": 4,
   "id": "f2e8d36a",
   "metadata": {},
   "outputs": [
    {
     "name": "stdout",
     "output_type": "stream",
     "text": [
      "HELLO\n"
     ]
    }
   ],
   "source": [
    "text = \"hello\"\n",
    "print(text.upper())"
   ]
  },
  {
   "cell_type": "markdown",
   "id": "fad8a88d",
   "metadata": {},
   "source": [
    "**5. Write a code to replace the word 'apple' with 'orange' in the string 'I like apple'**"
   ]
  },
  {
   "cell_type": "code",
   "execution_count": 5,
   "id": "16b5b8ec",
   "metadata": {},
   "outputs": [
    {
     "name": "stdout",
     "output_type": "stream",
     "text": [
      "I like orange\n"
     ]
    }
   ],
   "source": [
    "text = \"I like apple\"\n",
    "print(text.replace(\"apple\", \"orange\"))"
   ]
  },
  {
   "cell_type": "markdown",
   "id": "29714dfa",
   "metadata": {},
   "source": [
    "**6. Write a code to create a list with numbers 1 to 5 and print it**"
   ]
  },
  {
   "cell_type": "code",
   "execution_count": 6,
   "id": "d41bb127",
   "metadata": {},
   "outputs": [
    {
     "name": "stdout",
     "output_type": "stream",
     "text": [
      "[1, 2, 3, 4, 5]\n"
     ]
    }
   ],
   "source": [
    "numbers = [1, 2, 3, 4, 5]\n",
    "print(numbers)"
   ]
  },
  {
   "cell_type": "markdown",
   "id": "44a4721c",
   "metadata": {},
   "source": [
    "**7. Write a code to append the number 10 to the list [1, 2, 3, 4]**"
   ]
  },
  {
   "cell_type": "code",
   "execution_count": 7,
   "id": "3a49fea5",
   "metadata": {},
   "outputs": [
    {
     "name": "stdout",
     "output_type": "stream",
     "text": [
      "[1, 2, 3, 4, 10]\n"
     ]
    }
   ],
   "source": [
    "numbers = [1, 2, 3, 4]\n",
    "numbers.append(10)\n",
    "print(numbers)"
   ]
  },
  {
   "cell_type": "markdown",
   "id": "aef3b70a",
   "metadata": {},
   "source": [
    "**8. Write a code to remove the number 3 from the list [1, 2, 3, 4, 5]**"
   ]
  },
  {
   "cell_type": "code",
   "execution_count": 8,
   "id": "f5538997",
   "metadata": {},
   "outputs": [
    {
     "name": "stdout",
     "output_type": "stream",
     "text": [
      "[1, 2, 4, 5]\n"
     ]
    }
   ],
   "source": [
    "numbers = [1, 2, 3, 4, 5]\n",
    "numbers.remove(3)\n",
    "print(numbers)"
   ]
  },
  {
   "cell_type": "markdown",
   "id": "a5afc4d7",
   "metadata": {},
   "source": [
    "**9. Write a code to access the second element in the list ['a', 'b', 'c', 'd']**"
   ]
  },
  {
   "cell_type": "code",
   "execution_count": 9,
   "id": "1795fc62",
   "metadata": {},
   "outputs": [
    {
     "name": "stdout",
     "output_type": "stream",
     "text": [
      "b\n"
     ]
    }
   ],
   "source": [
    "letters = ['a', 'b', 'c', 'd']\n",
    "print(letters[1])"
   ]
  },
  {
   "cell_type": "markdown",
   "id": "085269a5",
   "metadata": {},
   "source": [
    "**10. Write a code to reverse the list [10, 20, 30, 40, 50]**"
   ]
  },
  {
   "cell_type": "code",
   "execution_count": 10,
   "id": "9f56ed38",
   "metadata": {},
   "outputs": [
    {
     "name": "stdout",
     "output_type": "stream",
     "text": [
      "[50, 40, 30, 20, 10]\n"
     ]
    }
   ],
   "source": [
    "numbers = [10, 20, 30, 40, 50]\n",
    "print(numbers[::-1])"
   ]
  },
  {
   "cell_type": "markdown",
   "id": "ecd069f6",
   "metadata": {},
   "source": [
    "**11. Write a code to create a tuple with the elements 100, 200, 300 and print it**"
   ]
  },
  {
   "cell_type": "code",
   "execution_count": 11,
   "id": "2eb3e295",
   "metadata": {},
   "outputs": [
    {
     "name": "stdout",
     "output_type": "stream",
     "text": [
      "(100, 200, 300)\n"
     ]
    }
   ],
   "source": [
    "my_tuple = (100, 200, 300)\n",
    "print(my_tuple)"
   ]
  },
  {
   "cell_type": "markdown",
   "id": "25f8dc4b",
   "metadata": {},
   "source": [
    "**12. Write a code to access the second-to-last element of the tuple ('red', 'green', 'blue', 'yellow')**"
   ]
  },
  {
   "cell_type": "code",
   "execution_count": 12,
   "id": "e5b83fbf",
   "metadata": {},
   "outputs": [
    {
     "name": "stdout",
     "output_type": "stream",
     "text": [
      "blue\n"
     ]
    }
   ],
   "source": [
    "colors = ('red', 'green', 'blue', 'yellow')\n",
    "print(colors[-2])"
   ]
  },
  {
   "cell_type": "markdown",
   "id": "b4c9e904",
   "metadata": {},
   "source": [
    "**13. Write a code to find the minimum number in the tuple (10, 20, 5, 15)**"
   ]
  },
  {
   "cell_type": "code",
   "execution_count": 13,
   "id": "66756759",
   "metadata": {},
   "outputs": [
    {
     "name": "stdout",
     "output_type": "stream",
     "text": [
      "5\n"
     ]
    }
   ],
   "source": [
    "numbers = (10, 20, 5, 15)\n",
    "print(min(numbers))"
   ]
  },
  {
   "cell_type": "markdown",
   "id": "fb4f30ca",
   "metadata": {},
   "source": [
    "**14. Write a code to find the index of the element 'cat' in the tuple ('dog', 'cat', 'rabbit')**"
   ]
  },
  {
   "cell_type": "code",
   "execution_count": 14,
   "id": "15e46fc1",
   "metadata": {},
   "outputs": [
    {
     "name": "stdout",
     "output_type": "stream",
     "text": [
      "1\n"
     ]
    }
   ],
   "source": [
    "animals = ('dog', 'cat', 'rabbit')\n",
    "print(animals.index('cat'))"
   ]
  },
  {
   "cell_type": "markdown",
   "id": "5e668429",
   "metadata": {},
   "source": [
    "**15. Write a code to create a tuple containing three different fruits and check if 'kiwi' is in it**"
   ]
  },
  {
   "cell_type": "code",
   "execution_count": 15,
   "id": "aa0a791c",
   "metadata": {},
   "outputs": [
    {
     "name": "stdout",
     "output_type": "stream",
     "text": [
      "False\n"
     ]
    }
   ],
   "source": [
    "fruits = ('apple', 'banana', 'mango')\n",
    "print('kiwi' in fruits)"
   ]
  },
  {
   "cell_type": "markdown",
   "id": "cbca3c63",
   "metadata": {},
   "source": [
    "**16. Write a code to create a set with the elements 'a', 'b', 'c' and print it**"
   ]
  },
  {
   "cell_type": "code",
   "execution_count": 16,
   "id": "72ac4ab6",
   "metadata": {},
   "outputs": [
    {
     "name": "stdout",
     "output_type": "stream",
     "text": [
      "{'c', 'b', 'a'}\n"
     ]
    }
   ],
   "source": [
    "my_set = {'a', 'b', 'c'}\n",
    "print(my_set)"
   ]
  },
  {
   "cell_type": "markdown",
   "id": "4b5a1a17",
   "metadata": {},
   "source": [
    "**17. Write a code to clear all elements from the set {1, 2, 3, 4, 5}**"
   ]
  },
  {
   "cell_type": "code",
   "execution_count": 17,
   "id": "788467a6",
   "metadata": {},
   "outputs": [
    {
     "name": "stdout",
     "output_type": "stream",
     "text": [
      "set()\n"
     ]
    }
   ],
   "source": [
    "my_set = {1, 2, 3, 4, 5}\n",
    "my_set.clear()\n",
    "print(my_set)"
   ]
  },
  {
   "cell_type": "markdown",
   "id": "2d784683",
   "metadata": {},
   "source": [
    "**18. Write a code to remove the element 4 from the set {1, 2, 3, 4}**"
   ]
  },
  {
   "cell_type": "code",
   "execution_count": 18,
   "id": "8bd2ffa5",
   "metadata": {},
   "outputs": [
    {
     "name": "stdout",
     "output_type": "stream",
     "text": [
      "{1, 2, 3}\n"
     ]
    }
   ],
   "source": [
    "my_set = {1, 2, 3, 4}\n",
    "my_set.remove(4)\n",
    "print(my_set)"
   ]
  },
  {
   "cell_type": "markdown",
   "id": "178e6479",
   "metadata": {},
   "source": [
    "**19. Write a code to find the union of two sets {1, 2, 3} and {3, 4, 5}**"
   ]
  },
  {
   "cell_type": "code",
   "execution_count": 19,
   "id": "74107615",
   "metadata": {},
   "outputs": [
    {
     "name": "stdout",
     "output_type": "stream",
     "text": [
      "{1, 2, 3, 4, 5}\n"
     ]
    }
   ],
   "source": [
    "set1 = {1, 2, 3}\n",
    "set2 = {3, 4, 5}\n",
    "print(set1.union(set2))"
   ]
  },
  {
   "cell_type": "markdown",
   "id": "ff019e6b",
   "metadata": {},
   "source": [
    "**20. Write a code to find the intersection of two sets {1, 2, 3} and {2, 3, 4}**"
   ]
  },
  {
   "cell_type": "code",
   "execution_count": 20,
   "id": "2813b04b",
   "metadata": {},
   "outputs": [
    {
     "name": "stdout",
     "output_type": "stream",
     "text": [
      "{2, 3}\n"
     ]
    }
   ],
   "source": [
    "set1 = {1, 2, 3}\n",
    "set2 = {2, 3, 4}\n",
    "print(set1.intersection(set2))"
   ]
  },
  {
   "cell_type": "markdown",
   "id": "085919d6",
   "metadata": {},
   "source": [
    "**21. Write a code to create a dictionary with the keys 'name', 'age', and 'city', and print it**"
   ]
  },
  {
   "cell_type": "code",
   "execution_count": 21,
   "id": "6a4497c4",
   "metadata": {},
   "outputs": [
    {
     "name": "stdout",
     "output_type": "stream",
     "text": [
      "{'name': 'John', 'age': 25, 'city': 'New York'}\n"
     ]
    }
   ],
   "source": [
    "person = {'name': 'John', 'age': 25, 'city': 'New York'}\n",
    "print(person)"
   ]
  },
  {
   "cell_type": "markdown",
   "id": "9577c2ec",
   "metadata": {},
   "source": [
    "**22. Write a code to add a new key-value pair 'country': 'USA' to the dictionary {'name': 'John', 'age': 25}**"
   ]
  },
  {
   "cell_type": "code",
   "execution_count": 22,
   "id": "32e2792f",
   "metadata": {},
   "outputs": [
    {
     "name": "stdout",
     "output_type": "stream",
     "text": [
      "{'name': 'John', 'age': 25, 'country': 'USA'}\n"
     ]
    }
   ],
   "source": [
    "person = {'name': 'John', 'age': 25}\n",
    "person['country'] = 'USA'\n",
    "print(person)"
   ]
  },
  {
   "cell_type": "markdown",
   "id": "06ca211f",
   "metadata": {},
   "source": [
    "**23. Write a code to access the value associated with the key 'name' in the dictionary {'name': 'Alice', 'age': 30}**"
   ]
  },
  {
   "cell_type": "code",
   "execution_count": 23,
   "id": "89ca7480",
   "metadata": {},
   "outputs": [
    {
     "name": "stdout",
     "output_type": "stream",
     "text": [
      "Alice\n"
     ]
    }
   ],
   "source": [
    "person = {'name': 'Alice', 'age': 30}\n",
    "print(person['name'])"
   ]
  },
  {
   "cell_type": "markdown",
   "id": "86d43d4d",
   "metadata": {},
   "source": [
    "**24. Write a code to remove the key 'age' from the dictionary {'name': 'Bob', 'age': 22, 'city': 'New York'}**"
   ]
  },
  {
   "cell_type": "code",
   "execution_count": 24,
   "id": "8accb5bc",
   "metadata": {},
   "outputs": [
    {
     "name": "stdout",
     "output_type": "stream",
     "text": [
      "{'name': 'Bob', 'city': 'New York'}\n"
     ]
    }
   ],
   "source": [
    "person = {'name': 'Bob', 'age': 22, 'city': 'New York'}\n",
    "person.pop('age')\n",
    "print(person)"
   ]
  },
  {
   "cell_type": "markdown",
   "id": "19a4c51b",
   "metadata": {},
   "source": [
    "**25. Write a code to check if the key 'city' exists in the dictionary {'name': 'Alice', 'city': 'Paris'}**"
   ]
  },
  {
   "cell_type": "code",
   "execution_count": 25,
   "id": "9f450b29",
   "metadata": {},
   "outputs": [
    {
     "name": "stdout",
     "output_type": "stream",
     "text": [
      "True\n"
     ]
    }
   ],
   "source": [
    "person = {'name': 'Alice', 'city': 'Paris'}\n",
    "print('city' in person)"
   ]
  },
  {
   "cell_type": "markdown",
   "id": "a641b0c3",
   "metadata": {},
   "source": [
    "**26. Write a code to create a list, a tuple, and a dictionary, and print them all**"
   ]
  },
  {
   "cell_type": "code",
   "execution_count": 26,
   "id": "555d995b",
   "metadata": {},
   "outputs": [
    {
     "name": "stdout",
     "output_type": "stream",
     "text": [
      "[1, 2, 3] (4, 5, 6) {'a': 10, 'b': 20}\n"
     ]
    }
   ],
   "source": [
    "my_list = [1, 2, 3]\n",
    "my_tuple = (4, 5, 6)\n",
    "my_dict = {'a': 10, 'b': 20}\n",
    "print(my_list, my_tuple, my_dict)"
   ]
  },
  {
   "cell_type": "markdown",
   "id": "77327974",
   "metadata": {},
   "source": [
    "**27. Write a code to create a list of 5 random numbers between 1 and 100, sort it in ascending order, and print the result**"
   ]
  },
  {
   "cell_type": "code",
   "execution_count": 27,
   "id": "99b25897",
   "metadata": {},
   "outputs": [
    {
     "name": "stdout",
     "output_type": "stream",
     "text": [
      "[7, 18, 56, 67, 75]\n"
     ]
    }
   ],
   "source": [
    "import random\n",
    "numbers = random.sample(range(1, 101), 5)\n",
    "numbers.sort()\n",
    "print(numbers)"
   ]
  },
  {
   "cell_type": "markdown",
   "id": "c8db70a4",
   "metadata": {},
   "source": [
    "**28. Write a code to create a list with strings and print the element at the third index**"
   ]
  },
  {
   "cell_type": "code",
   "execution_count": 28,
   "id": "9249dab4",
   "metadata": {},
   "outputs": [
    {
     "name": "stdout",
     "output_type": "stream",
     "text": [
      "date\n"
     ]
    }
   ],
   "source": [
    "words = ['apple', 'banana', 'cherry', 'date']\n",
    "print(words[3])"
   ]
  },
  {
   "cell_type": "markdown",
   "id": "1c665ea9",
   "metadata": {},
   "source": [
    "**29. Write a code to combine two dictionaries into one and print the result**"
   ]
  },
  {
   "cell_type": "code",
   "execution_count": 29,
   "id": "cdc4bc9d",
   "metadata": {},
   "outputs": [
    {
     "name": "stdout",
     "output_type": "stream",
     "text": [
      "{'a': 1, 'b': 2, 'c': 3, 'd': 4}\n"
     ]
    }
   ],
   "source": [
    "dict1 = {'a': 1, 'b': 2}\n",
    "dict2 = {'c': 3, 'd': 4}\n",
    "combined = {**dict1, **dict2}\n",
    "print(combined)"
   ]
  },
  {
   "cell_type": "markdown",
   "id": "1e75a432",
   "metadata": {},
   "source": [
    "**30. Write a code to convert a list of strings into a set**"
   ]
  },
  {
   "cell_type": "code",
   "execution_count": 30,
   "id": "6a65c1a9",
   "metadata": {},
   "outputs": [
    {
     "name": "stdout",
     "output_type": "stream",
     "text": [
      "{'cherry', 'banana', 'apple'}\n"
     ]
    }
   ],
   "source": [
    "words = ['apple', 'banana', 'cherry', 'apple']\n",
    "word_set = set(words)\n",
    "print(word_set)"
   ]
  }
 ],
 "metadata": {
  "kernelspec": {
   "display_name": "Python 3 (ipykernel)",
   "language": "python",
   "name": "python3"
  },
  "language_info": {
   "codemirror_mode": {
    "name": "ipython",
    "version": 3
   },
   "file_extension": ".py",
   "mimetype": "text/x-python",
   "name": "python",
   "nbconvert_exporter": "python",
   "pygments_lexer": "ipython3",
   "version": "3.11.5"
  }
 },
 "nbformat": 4,
 "nbformat_minor": 5
}
